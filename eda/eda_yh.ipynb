{
 "cells": [
  {
   "cell_type": "code",
   "execution_count": 95,
   "metadata": {},
   "outputs": [],
   "source": [
    "import numpy as np\n",
    "import pandas as pd\n",
    "import regex\n",
    "from collections import Counter\n",
    "from tqdm import tqdm"
   ]
  },
  {
   "cell_type": "code",
   "execution_count": null,
   "metadata": {},
   "outputs": [],
   "source": [
    "users = pd.read_csv('../data/users.csv')"
   ]
  },
  {
   "cell_type": "code",
   "execution_count": 8,
   "metadata": {},
   "outputs": [
    {
     "data": {
      "text/plain": [
       "user_id         0\n",
       "location        0\n",
       "age         27833\n",
       "dtype: int64"
      ]
     },
     "execution_count": 8,
     "metadata": {},
     "output_type": "execute_result"
    }
   ],
   "source": [
    "users.isnull().sum(axis=0)"
   ]
  },
  {
   "cell_type": "markdown",
   "metadata": {},
   "source": [
    "## context_data"
   ]
  },
  {
   "cell_type": "code",
   "execution_count": null,
   "metadata": {},
   "outputs": [],
   "source": [
    "def str2list(x: str) -> list:\n",
    "    '''문자열을 리스트로 변환하는 함수'''\n",
    "    return x[1:-1].split(', ')\n",
    "\n",
    "def split_location(x: str) -> list:\n",
    "    '''\n",
    "    Parameters\n",
    "    ----------\n",
    "    x : str\n",
    "        location 데이터\n",
    "\n",
    "    Returns\n",
    "    -------\n",
    "    res : list\n",
    "        location 데이터를 나눈 뒤, 정제한 결과를 반환합니다.\n",
    "        순서는 country, state, city, ... 입니다.\n",
    "    '''\n",
    "    res = x.split(',')\n",
    "    res = [i.strip().lower() for i in res]\n",
    "    res = [regex.sub(r'[^a-zA-Z/ ]', '', i) for i in res]  # remove special characters\n",
    "    res = [i if i not in ['n/a', ''] else np.nan for i in res]  # change 'n/a' into NaN\n",
    "    res.reverse()  # reverse the list to get country, state, city, ... order\n",
    "\n",
    "    # for i in range(len(res)-1, 0, -1):\n",
    "    #     if (res[i] in res[:i]) and (not pd.isna(res[i])):  # remove duplicated values if not NaN\n",
    "    #         res.pop(i)\n",
    "\n",
    "    return res"
   ]
  },
  {
   "cell_type": "code",
   "execution_count": null,
   "metadata": {},
   "outputs": [],
   "source": [
    "users_ = users.copy()"
   ]
  },
  {
   "cell_type": "code",
   "execution_count": 238,
   "metadata": {},
   "outputs": [],
   "source": [
    "users_['age'] = users_['age'].fillna(users_['age'].mode()[0]) # 29세로 결측치 대체 (27833 rows)\n",
    "users_['age_range'] = users_['age'].apply(lambda x: x // 10 * 10)  # 10대, 20대, 30대, ...\n",
    "\n",
    "users_['location_list'] = users_['location'].apply(lambda x: split_location(x)) \n",
    "users_['location_country'] = users_['location_list'].apply(lambda x: x[0])\n",
    "users_['location_state'] = users_['location_list'].apply(lambda x: x[1] if len(x) > 1 else np.nan)\n",
    "users_['location_city'] = users_['location_list'].apply(lambda x: x[2] if len(x) > 2 else np.nan)"
   ]
  },
  {
   "cell_type": "markdown",
   "metadata": {},
   "source": [
    "### 주소 입력 오류 수정"
   ]
  },
  {
   "cell_type": "markdown",
   "metadata": {},
   "source": [
    "1. city와 country가 같은데 state가 다른 케이스"
   ]
  },
  {
   "cell_type": "code",
   "execution_count": 240,
   "metadata": {},
   "outputs": [],
   "source": [
    "# city와 country가 같은 케이스 찾기\n",
    "city_country_pairs = users_.dropna(subset = 'location_state')\n",
    "city_country_pairs = city_country_pairs.groupby(['location_city', 'location_country'])['location_state'].nunique()[users_.groupby(['location_city', 'location_country'])['location_state'].nunique() > 1].reset_index().dropna().sort_values('location_state')"
   ]
  },
  {
   "cell_type": "code",
   "execution_count": null,
   "metadata": {},
   "outputs": [
    {
     "data": {
      "text/html": [
       "<div>\n",
       "<style scoped>\n",
       "    .dataframe tbody tr th:only-of-type {\n",
       "        vertical-align: middle;\n",
       "    }\n",
       "\n",
       "    .dataframe tbody tr th {\n",
       "        vertical-align: top;\n",
       "    }\n",
       "\n",
       "    .dataframe thead th {\n",
       "        text-align: right;\n",
       "    }\n",
       "</style>\n",
       "<table border=\"1\" class=\"dataframe\">\n",
       "  <thead>\n",
       "    <tr style=\"text-align: right;\">\n",
       "      <th></th>\n",
       "      <th>location_city</th>\n",
       "      <th>location_country</th>\n",
       "      <th>location_state</th>\n",
       "    </tr>\n",
       "  </thead>\n",
       "  <tbody>\n",
       "    <tr>\n",
       "      <th>33</th>\n",
       "      <td>alpine</td>\n",
       "      <td>usa</td>\n",
       "      <td>2</td>\n",
       "    </tr>\n",
       "    <tr>\n",
       "      <th>34</th>\n",
       "      <td>alta</td>\n",
       "      <td>usa</td>\n",
       "      <td>2</td>\n",
       "    </tr>\n",
       "    <tr>\n",
       "      <th>37</th>\n",
       "      <td>alverca</td>\n",
       "      <td>portugal</td>\n",
       "      <td>2</td>\n",
       "    </tr>\n",
       "    <tr>\n",
       "      <th>38</th>\n",
       "      <td>amboy</td>\n",
       "      <td>usa</td>\n",
       "      <td>2</td>\n",
       "    </tr>\n",
       "    <tr>\n",
       "      <th>1729</th>\n",
       "      <td>wuppertal</td>\n",
       "      <td>germany</td>\n",
       "      <td>2</td>\n",
       "    </tr>\n",
       "    <tr>\n",
       "      <th>...</th>\n",
       "      <td>...</td>\n",
       "      <td>...</td>\n",
       "      <td>...</td>\n",
       "    </tr>\n",
       "    <tr>\n",
       "      <th>1453</th>\n",
       "      <td>springfield</td>\n",
       "      <td>usa</td>\n",
       "      <td>13</td>\n",
       "    </tr>\n",
       "    <tr>\n",
       "      <th>325</th>\n",
       "      <td>clinton</td>\n",
       "      <td>usa</td>\n",
       "      <td>14</td>\n",
       "    </tr>\n",
       "    <tr>\n",
       "      <th>1626</th>\n",
       "      <td>washington</td>\n",
       "      <td>usa</td>\n",
       "      <td>15</td>\n",
       "    </tr>\n",
       "    <tr>\n",
       "      <th>99</th>\n",
       "      <td>barcelona</td>\n",
       "      <td>spain</td>\n",
       "      <td>19</td>\n",
       "    </tr>\n",
       "    <tr>\n",
       "      <th>878</th>\n",
       "      <td>london</td>\n",
       "      <td>united kingdom</td>\n",
       "      <td>19</td>\n",
       "    </tr>\n",
       "  </tbody>\n",
       "</table>\n",
       "<p>1747 rows × 3 columns</p>\n",
       "</div>"
      ],
      "text/plain": [
       "     location_city location_country  location_state\n",
       "33          alpine              usa               2\n",
       "34            alta              usa               2\n",
       "37         alverca         portugal               2\n",
       "38           amboy              usa               2\n",
       "1729     wuppertal          germany               2\n",
       "...            ...              ...             ...\n",
       "1453   springfield              usa              13\n",
       "325        clinton              usa              14\n",
       "1626    washington              usa              15\n",
       "99       barcelona            spain              19\n",
       "878         london   united kingdom              19\n",
       "\n",
       "[1747 rows x 3 columns]"
      ]
     },
     "execution_count": 224,
     "metadata": {},
     "output_type": "execute_result"
    }
   ],
   "source": [
    "# city와 country가 같은 경우에 state가 여러개 존재함 -> 입력 오류로 판단\n",
    "city_country_pairs"
   ]
  },
  {
   "cell_type": "code",
   "execution_count": null,
   "metadata": {},
   "outputs": [
    {
     "data": {
      "text/plain": [
       "location_country  location_state  location_city\n",
       "united kingdom    england         london           415\n",
       "                  uk              london             6\n",
       "                  middlesex       london             4\n",
       "                  greater london  london             3\n",
       "                  lazio           london             2\n",
       "                  alabama         london             1\n",
       "                  alaska          london             1\n",
       "                  battersea       london             1\n",
       "                  city            london             1\n",
       "                  bayern          london             1\n",
       "                  brixton         london             1\n",
       "                  forest gate     london             1\n",
       "                  foreign         london             1\n",
       "                  chiswickl       london             1\n",
       "                  muswell hill    london             1\n",
       "                  none            london             1\n",
       "                  scotland        london             1\n",
       "                  surrey          london             1\n",
       "                  tooting         london             1\n",
       "Name: count, dtype: int64"
      ]
     },
     "execution_count": 225,
     "metadata": {},
     "output_type": "execute_result"
    }
   ],
   "source": [
    "# 최빈값으로 대체하면 될 듯\n",
    "users_[(users_.location_city == 'london') & (users_.location_country == 'united kingdom')][['location_country', 'location_state', 'location_city']].value_counts()"
   ]
  },
  {
   "cell_type": "code",
   "execution_count": 241,
   "metadata": {},
   "outputs": [
    {
     "name": "stderr",
     "output_type": "stream",
     "text": [
      "1826it [00:20, 87.63it/s]\n"
     ]
    }
   ],
   "source": [
    "# 각 city-country 쌍에 대해 최빈 state 찾기\n",
    "for _, row in tqdm(city_country_pairs.iterrows()):\n",
    "    city = row['location_city']\n",
    "    country = row['location_country']\n",
    "    \n",
    "    # 해당 city-country 조합의 모든 데이터 찾기\n",
    "    condition = (users_['location_city'] == city) & (users_['location_country'] == country) \n",
    "    states = users_[condition]['location_state'].dropna()\n",
    "    \n",
    "    # 최빈 state 찾기\n",
    "    if not states.empty:\n",
    "        most_common_state = Counter(states).most_common(1)[0][0]\n",
    "        \n",
    "        # 최빈 state로 업데이트\n",
    "        users_.loc[condition, 'location_state'] = most_common_state"
   ]
  },
  {
   "cell_type": "markdown",
   "metadata": {},
   "source": [
    "2. city와 state가 같은데 country가 다른 케이스"
   ]
  },
  {
   "cell_type": "code",
   "execution_count": null,
   "metadata": {},
   "outputs": [],
   "source": [
    "# 2. city와 state가 같은 케이스 찾기\n",
    "state_city_pairs = users_.dropna(subset = 'location_country')\n",
    "state_city_pairs = state_city_pairs.groupby(['location_city', 'location_state'])['location_country'].nunique()[users_.groupby(['location_city', 'location_state'])['location_country'].nunique() > 1].reset_index().dropna().sort_values('location_country')"
   ]
  },
  {
   "cell_type": "code",
   "execution_count": 243,
   "metadata": {},
   "outputs": [
    {
     "name": "stderr",
     "output_type": "stream",
     "text": [
      "119it [00:01, 84.21it/s]\n"
     ]
    }
   ],
   "source": [
    "# 각 city-country 쌍에 대해 최빈 state 찾기\n",
    "for _, row in tqdm(state_city_pairs.iterrows()):\n",
    "    city = row['location_city']\n",
    "    state = row['location_state']\n",
    "    \n",
    "    # 해당 city-country 조합의 모든 데이터 찾기\n",
    "    condition = (users_['location_city'] == city) & (users_['location_state'] == state)\n",
    "    country = users_[condition]['location_country'].dropna()\n",
    "    \n",
    "    # 최빈 state 찾기\n",
    "    if not country.empty:\n",
    "        most_common_country = Counter(country).most_common(1)[0][0]\n",
    "        \n",
    "        # 최빈 state로 업데이트\n",
    "        users_.loc[condition, 'location_country'] = most_common_country"
   ]
  },
  {
   "cell_type": "markdown",
   "metadata": {},
   "source": [
    "3. 나머지 결측치 최빈값 대체 "
   ]
  },
  {
   "cell_type": "code",
   "execution_count": 244,
   "metadata": {},
   "outputs": [],
   "source": [
    "# 나머지 결측치는 최빈값으로 대체\n",
    "for idx, row in users_.iterrows():\n",
    "    if (not pd.isna(row['location_state'])) and pd.isna(row['location_country']): # state는 있고 country는 없는 경우 \n",
    "        fill_country = users_[users_['location_state'] == row['location_state']]['location_country'].mode()\n",
    "        fill_country = fill_country[0] if len(fill_country) > 0 else np.nan\n",
    "        users_.loc[idx, 'location_country'] = fill_country\n",
    "    elif (not pd.isna(row['location_city'])) and pd.isna(row['location_state']): # city는 있고 state는 없는 경우\n",
    "        if not pd.isna(row['location_country']): # country는 있는 경우 \n",
    "            fill_state = users_[(users_['location_country'] == row['location_country']) \n",
    "                                & (users_['location_city'] == row['location_city'])]['location_state'].mode()\n",
    "            fill_state = fill_state[0] if len(fill_state) > 0 else np.nan\n",
    "            users_.loc[idx, 'location_state'] = fill_state\n",
    "        else: # country는 없는 경우\n",
    "            fill_state = users_[users_['location_city'] == row['location_city']]['location_state'].mode()\n",
    "            fill_state = fill_state[0] if len(fill_state) > 0 else np.nan\n",
    "            fill_country = users_[users_['location_city'] == row['location_city']]['location_country'].mode()\n",
    "            fill_country = fill_country[0] if len(fill_country) > 0 else np.nan\n",
    "            users_.loc[idx, 'location_country'] = fill_country\n",
    "            users_.loc[idx, 'location_state'] = fill_state"
   ]
  },
  {
   "cell_type": "code",
   "execution_count": 232,
   "metadata": {},
   "outputs": [
    {
     "data": {
      "text/plain": [
       "user_id                0\n",
       "location               0\n",
       "age                    0\n",
       "age_range              0\n",
       "location_list          0\n",
       "location_country     143\n",
       "location_state       725\n",
       "location_city       2787\n",
       "dtype: int64"
      ]
     },
     "execution_count": 232,
     "metadata": {},
     "output_type": "execute_result"
    }
   ],
   "source": [
    "users_.isnull().sum(axis=0)"
   ]
  },
  {
   "cell_type": "code",
   "execution_count": null,
   "metadata": {},
   "outputs": [
    {
     "data": {
      "text/html": [
       "<div>\n",
       "<style scoped>\n",
       "    .dataframe tbody tr th:only-of-type {\n",
       "        vertical-align: middle;\n",
       "    }\n",
       "\n",
       "    .dataframe tbody tr th {\n",
       "        vertical-align: top;\n",
       "    }\n",
       "\n",
       "    .dataframe thead th {\n",
       "        text-align: right;\n",
       "    }\n",
       "</style>\n",
       "<table border=\"1\" class=\"dataframe\">\n",
       "  <thead>\n",
       "    <tr style=\"text-align: right;\">\n",
       "      <th></th>\n",
       "      <th>user_id</th>\n",
       "      <th>location</th>\n",
       "      <th>age</th>\n",
       "      <th>age_range</th>\n",
       "      <th>location_list</th>\n",
       "      <th>location_country</th>\n",
       "      <th>location_state</th>\n",
       "      <th>location_city</th>\n",
       "    </tr>\n",
       "  </thead>\n",
       "  <tbody>\n",
       "    <tr>\n",
       "      <th>2</th>\n",
       "      <td>11676</td>\n",
       "      <td>n/a, n/a, n/a</td>\n",
       "      <td>29.0</td>\n",
       "      <td>20.0</td>\n",
       "      <td>[nan, nan, nan]</td>\n",
       "      <td>NaN</td>\n",
       "      <td>NaN</td>\n",
       "      <td>NaN</td>\n",
       "    </tr>\n",
       "    <tr>\n",
       "      <th>88</th>\n",
       "      <td>13582</td>\n",
       "      <td>lisboa, lisboa, portugal</td>\n",
       "      <td>29.0</td>\n",
       "      <td>20.0</td>\n",
       "      <td>[portugal, lisboa]</td>\n",
       "      <td>portugal</td>\n",
       "      <td>lisboa</td>\n",
       "      <td>NaN</td>\n",
       "    </tr>\n",
       "    <tr>\n",
       "      <th>96</th>\n",
       "      <td>20801</td>\n",
       "      <td>rio de janeiro, rio de janeiro, brazil</td>\n",
       "      <td>29.0</td>\n",
       "      <td>20.0</td>\n",
       "      <td>[brazil, rio de janeiro]</td>\n",
       "      <td>brazil</td>\n",
       "      <td>rio de janeiro</td>\n",
       "      <td>NaN</td>\n",
       "    </tr>\n",
       "    <tr>\n",
       "      <th>131</th>\n",
       "      <td>48268</td>\n",
       "      <td>vienna, vienna, austria</td>\n",
       "      <td>18.0</td>\n",
       "      <td>10.0</td>\n",
       "      <td>[austria, vienna]</td>\n",
       "      <td>austria</td>\n",
       "      <td>vienna</td>\n",
       "      <td>NaN</td>\n",
       "    </tr>\n",
       "    <tr>\n",
       "      <th>141</th>\n",
       "      <td>57108</td>\n",
       "      <td>new york, new york, usa</td>\n",
       "      <td>38.0</td>\n",
       "      <td>30.0</td>\n",
       "      <td>[usa, new york]</td>\n",
       "      <td>usa</td>\n",
       "      <td>new york</td>\n",
       "      <td>NaN</td>\n",
       "    </tr>\n",
       "    <tr>\n",
       "      <th>...</th>\n",
       "      <td>...</td>\n",
       "      <td>...</td>\n",
       "      <td>...</td>\n",
       "      <td>...</td>\n",
       "      <td>...</td>\n",
       "      <td>...</td>\n",
       "      <td>...</td>\n",
       "      <td>...</td>\n",
       "    </tr>\n",
       "    <tr>\n",
       "      <th>68053</th>\n",
       "      <td>275892</td>\n",
       "      <td>82061, calabria, germany</td>\n",
       "      <td>43.0</td>\n",
       "      <td>40.0</td>\n",
       "      <td>[germany, calabria, nan]</td>\n",
       "      <td>germany</td>\n",
       "      <td>calabria</td>\n",
       "      <td>NaN</td>\n",
       "    </tr>\n",
       "    <tr>\n",
       "      <th>68057</th>\n",
       "      <td>276216</td>\n",
       "      <td>ccp, ccp, chile</td>\n",
       "      <td>29.0</td>\n",
       "      <td>20.0</td>\n",
       "      <td>[chile, ccp]</td>\n",
       "      <td>chile</td>\n",
       "      <td>ccp</td>\n",
       "      <td>NaN</td>\n",
       "    </tr>\n",
       "    <tr>\n",
       "      <th>68060</th>\n",
       "      <td>276442</td>\n",
       "      <td>genève, genève, switzerland</td>\n",
       "      <td>62.0</td>\n",
       "      <td>60.0</td>\n",
       "      <td>[switzerland, genve]</td>\n",
       "      <td>switzerland</td>\n",
       "      <td>genve</td>\n",
       "      <td>NaN</td>\n",
       "    </tr>\n",
       "    <tr>\n",
       "      <th>68063</th>\n",
       "      <td>276660</td>\n",
       "      <td>singapore, n/a, singapore</td>\n",
       "      <td>15.0</td>\n",
       "      <td>10.0</td>\n",
       "      <td>[singapore, nan]</td>\n",
       "      <td>singapore</td>\n",
       "      <td>NaN</td>\n",
       "      <td>NaN</td>\n",
       "    </tr>\n",
       "    <tr>\n",
       "      <th>68070</th>\n",
       "      <td>277079</td>\n",
       "      <td>berlin, berlin, germany</td>\n",
       "      <td>29.0</td>\n",
       "      <td>20.0</td>\n",
       "      <td>[germany, berlin]</td>\n",
       "      <td>germany</td>\n",
       "      <td>berlin</td>\n",
       "      <td>NaN</td>\n",
       "    </tr>\n",
       "  </tbody>\n",
       "</table>\n",
       "<p>2787 rows × 8 columns</p>\n",
       "</div>"
      ],
      "text/plain": [
       "       user_id                                location   age  age_range  \\\n",
       "2        11676                           n/a, n/a, n/a  29.0       20.0   \n",
       "88       13582                lisboa, lisboa, portugal  29.0       20.0   \n",
       "96       20801  rio de janeiro, rio de janeiro, brazil  29.0       20.0   \n",
       "131      48268                 vienna, vienna, austria  18.0       10.0   \n",
       "141      57108                 new york, new york, usa  38.0       30.0   \n",
       "...        ...                                     ...   ...        ...   \n",
       "68053   275892                82061, calabria, germany  43.0       40.0   \n",
       "68057   276216                         ccp, ccp, chile  29.0       20.0   \n",
       "68060   276442             genève, genève, switzerland  62.0       60.0   \n",
       "68063   276660               singapore, n/a, singapore  15.0       10.0   \n",
       "68070   277079                 berlin, berlin, germany  29.0       20.0   \n",
       "\n",
       "                  location_list location_country  location_state location_city  \n",
       "2               [nan, nan, nan]              NaN             NaN           NaN  \n",
       "88           [portugal, lisboa]         portugal          lisboa           NaN  \n",
       "96     [brazil, rio de janeiro]           brazil  rio de janeiro           NaN  \n",
       "131           [austria, vienna]          austria          vienna           NaN  \n",
       "141             [usa, new york]              usa        new york           NaN  \n",
       "...                         ...              ...             ...           ...  \n",
       "68053  [germany, calabria, nan]          germany        calabria           NaN  \n",
       "68057              [chile, ccp]            chile             ccp           NaN  \n",
       "68060      [switzerland, genve]      switzerland           genve           NaN  \n",
       "68063          [singapore, nan]        singapore             NaN           NaN  \n",
       "68070         [germany, berlin]          germany          berlin           NaN  \n",
       "\n",
       "[2787 rows x 8 columns]"
      ]
     },
     "execution_count": 234,
     "metadata": {},
     "output_type": "execute_result"
    }
   ],
   "source": [
    "users_[users_.location_city.isna()] # 도시를 state에도 쓴 경우네 (베이스라인 중복 제거 코드 때문인 듯)"
   ]
  },
  {
   "cell_type": "code",
   "execution_count": 245,
   "metadata": {},
   "outputs": [
    {
     "data": {
      "text/plain": [
       "user_id               0\n",
       "location              0\n",
       "age                   0\n",
       "age_range             0\n",
       "location_list         0\n",
       "location_country    140\n",
       "location_state      528\n",
       "location_city       186\n",
       "dtype: int64"
      ]
     },
     "execution_count": 245,
     "metadata": {},
     "output_type": "execute_result"
    }
   ],
   "source": [
    "# 중복 제거 코드 제외하면\n",
    "users_.isnull().sum(axis=0)"
   ]
  }
 ],
 "metadata": {
  "kernelspec": {
   "display_name": "base",
   "language": "python",
   "name": "python3"
  },
  "language_info": {
   "codemirror_mode": {
    "name": "ipython",
    "version": 3
   },
   "file_extension": ".py",
   "mimetype": "text/x-python",
   "name": "python",
   "nbconvert_exporter": "python",
   "pygments_lexer": "ipython3",
   "version": "3.10.13"
  }
 },
 "nbformat": 4,
 "nbformat_minor": 2
}
